{
 "cells": [
  {
   "cell_type": "code",
   "execution_count": 2,
   "metadata": {
    "collapsed": false
   },
   "outputs": [
    {
     "data": {
      "text/plain": [
       "'Connected: None@chinook.db'"
      ]
     },
     "execution_count": 2,
     "metadata": {},
     "output_type": "execute_result"
    }
   ],
   "source": [
    "%%capture\n",
    "%load_ext sql\n",
    "%sql sqlite:///chinook.db"
   ]
  },
  {
   "cell_type": "code",
   "execution_count": 3,
   "metadata": {
    "collapsed": false
   },
   "outputs": [
    {
     "name": "stdout",
     "output_type": "stream",
     "text": [
      "Done.\n"
     ]
    },
    {
     "data": {
      "text/html": [
       "<table>\n",
       "    <tr>\n",
       "        <th>name</th>\n",
       "        <th>type</th>\n",
       "    </tr>\n",
       "    <tr>\n",
       "        <td>album</td>\n",
       "        <td>table</td>\n",
       "    </tr>\n",
       "    <tr>\n",
       "        <td>artist</td>\n",
       "        <td>table</td>\n",
       "    </tr>\n",
       "    <tr>\n",
       "        <td>customer</td>\n",
       "        <td>table</td>\n",
       "    </tr>\n",
       "    <tr>\n",
       "        <td>employee</td>\n",
       "        <td>table</td>\n",
       "    </tr>\n",
       "    <tr>\n",
       "        <td>genre</td>\n",
       "        <td>table</td>\n",
       "    </tr>\n",
       "    <tr>\n",
       "        <td>invoice</td>\n",
       "        <td>table</td>\n",
       "    </tr>\n",
       "    <tr>\n",
       "        <td>invoice_line</td>\n",
       "        <td>table</td>\n",
       "    </tr>\n",
       "    <tr>\n",
       "        <td>media_type</td>\n",
       "        <td>table</td>\n",
       "    </tr>\n",
       "    <tr>\n",
       "        <td>playlist</td>\n",
       "        <td>table</td>\n",
       "    </tr>\n",
       "    <tr>\n",
       "        <td>playlist_track</td>\n",
       "        <td>table</td>\n",
       "    </tr>\n",
       "    <tr>\n",
       "        <td>track</td>\n",
       "        <td>table</td>\n",
       "    </tr>\n",
       "</table>"
      ],
      "text/plain": [
       "[('album', 'table'),\n",
       " ('artist', 'table'),\n",
       " ('customer', 'table'),\n",
       " ('employee', 'table'),\n",
       " ('genre', 'table'),\n",
       " ('invoice', 'table'),\n",
       " ('invoice_line', 'table'),\n",
       " ('media_type', 'table'),\n",
       " ('playlist', 'table'),\n",
       " ('playlist_track', 'table'),\n",
       " ('track', 'table')]"
      ]
     },
     "execution_count": 3,
     "metadata": {},
     "output_type": "execute_result"
    }
   ],
   "source": [
    "%%sql\n",
    "SELECT\n",
    "    name,\n",
    "    type\n",
    "FROM sqlite_master\n",
    "WHERE type IN (\"table\",\"view\");"
   ]
  },
  {
   "cell_type": "code",
   "execution_count": 4,
   "metadata": {
    "collapsed": false
   },
   "outputs": [
    {
     "name": "stdout",
     "output_type": "stream",
     "text": [
      "Done.\n"
     ]
    },
    {
     "data": {
      "text/html": [
       "<table>\n",
       "    <tr>\n",
       "        <th>genre</th>\n",
       "        <th>percentage_sold</th>\n",
       "    </tr>\n",
       "    <tr>\n",
       "        <td>Rock</td>\n",
       "        <td>0.5337773549000951</td>\n",
       "    </tr>\n",
       "    <tr>\n",
       "        <td>Alternative &amp; Punk</td>\n",
       "        <td>0.12369172216936251</td>\n",
       "    </tr>\n",
       "    <tr>\n",
       "        <td>Metal</td>\n",
       "        <td>0.11798287345385347</td>\n",
       "    </tr>\n",
       "    <tr>\n",
       "        <td>R&amp;B/Soul</td>\n",
       "        <td>0.05042816365366318</td>\n",
       "    </tr>\n",
       "    <tr>\n",
       "        <td>Blues</td>\n",
       "        <td>0.03425309229305423</td>\n",
       "    </tr>\n",
       "    <tr>\n",
       "        <td>Alternative</td>\n",
       "        <td>0.03330161750713606</td>\n",
       "    </tr>\n",
       "    <tr>\n",
       "        <td>Latin</td>\n",
       "        <td>0.02093244529019981</td>\n",
       "    </tr>\n",
       "    <tr>\n",
       "        <td>Pop</td>\n",
       "        <td>0.02093244529019981</td>\n",
       "    </tr>\n",
       "    <tr>\n",
       "        <td>Hip Hop/Rap</td>\n",
       "        <td>0.019029495718363463</td>\n",
       "    </tr>\n",
       "    <tr>\n",
       "        <td>Jazz</td>\n",
       "        <td>0.013320647002854425</td>\n",
       "    </tr>\n",
       "</table>"
      ],
      "text/plain": [
       "[('Rock', 0.5337773549000951),\n",
       " ('Alternative & Punk', 0.12369172216936251),\n",
       " ('Metal', 0.11798287345385347),\n",
       " ('R&B/Soul', 0.05042816365366318),\n",
       " ('Blues', 0.03425309229305423),\n",
       " ('Alternative', 0.03330161750713606),\n",
       " ('Latin', 0.02093244529019981),\n",
       " ('Pop', 0.02093244529019981),\n",
       " ('Hip Hop/Rap', 0.019029495718363463),\n",
       " ('Jazz', 0.013320647002854425)]"
      ]
     },
     "execution_count": 4,
     "metadata": {},
     "output_type": "execute_result"
    }
   ],
   "source": [
    "%%sql \n",
    "with USA_tracks_sold as\n",
    "(SELECT \n",
    " il.*\n",
    " FROM invoice_line il\n",
    " inner join invoice i on i.invoice_id = il.invoice_id\n",
    " inner join customer c on  i.customer_id = c.customer_id\n",
    " where c.country = \"USA\"\n",
    ")\n",
    "select\n",
    "g.name genre,\n",
    "CAST(count(uts.invoice_line_id) as float)/(select count(*) from USA_tracks_sold) as percentage_sold\n",
    "from USA_tracks_sold uts \n",
    "inner join track t on t.track_id = uts.track_id\n",
    "inner join genre g on g.genre_id = t.genre_id\n",
    "group by 1\n",
    "order by 2 desc\n",
    "limit 10\n",
    "\n"
   ]
  },
  {
   "cell_type": "markdown",
   "metadata": {
    "collapsed": true
   },
   "source": [
    "When looking at total purchases per genre we conclude that the top three genres are Rock, Alternative & Punk, and Metal. Based on the results, the three albums that should be purchased are:\n",
    "- Red Tone\n",
    "- Slim Jim Bites\n",
    "- Meteor and the Girls"
   ]
  },
  {
   "cell_type": "markdown",
   "metadata": {},
   "source": [
    "# Analyzing Employee Sales Performance"
   ]
  },
  {
   "cell_type": "code",
   "execution_count": 5,
   "metadata": {
    "collapsed": false
   },
   "outputs": [
    {
     "name": "stdout",
     "output_type": "stream",
     "text": [
      "Done.\n"
     ]
    },
    {
     "data": {
      "text/html": [
       "<table>\n",
       "    <tr>\n",
       "        <th>employee_name</th>\n",
       "        <th>total_purchases</th>\n",
       "    </tr>\n",
       "    <tr>\n",
       "        <td>Jane Peacock</td>\n",
       "        <td>1731.5099999999998</td>\n",
       "    </tr>\n",
       "    <tr>\n",
       "        <td>Margaret Park</td>\n",
       "        <td>1584.0000000000002</td>\n",
       "    </tr>\n",
       "    <tr>\n",
       "        <td>Steve Johnson</td>\n",
       "        <td>1393.92</td>\n",
       "    </tr>\n",
       "</table>"
      ],
      "text/plain": [
       "[('Jane Peacock', 1731.5099999999998),\n",
       " ('Margaret Park', 1584.0000000000002),\n",
       " ('Steve Johnson', 1393.92)]"
      ]
     },
     "execution_count": 5,
     "metadata": {},
     "output_type": "execute_result"
    }
   ],
   "source": [
    "%%sql\n",
    "with customer_total_purchases as\n",
    "(select\n",
    "i.customer_id,\n",
    " c.support_rep_id,\n",
    " sum(i.total) total_purchase\n",
    "from invoice i\n",
    "inner join customer c on c.customer_id = i.customer_id\n",
    " group by 1,2\n",
    ")\n",
    "select \n",
    "e.first_name || \" \" || e.last_name as employee_name ,\n",
    "sum(ctp.total_purchase) total_purchases\n",
    "from customer_total_purchases ctp\n",
    "inner join employee e on e.employee_id = ctp.support_rep_id\n",
    "group by 1\n"
   ]
  },
  {
   "cell_type": "markdown",
   "metadata": {
    "collapsed": true
   },
   "source": [
    "The sales agent with the highest sales amount assigned was Jane Peacock. Following her Margaret Park sold the second most out of the employees."
   ]
  },
  {
   "cell_type": "markdown",
   "metadata": {},
   "source": [
    "# Analyzing Sales by Country"
   ]
  },
  {
   "cell_type": "code",
   "execution_count": 6,
   "metadata": {
    "collapsed": false
   },
   "outputs": [
    {
     "name": "stdout",
     "output_type": "stream",
     "text": [
      "(sqlite3.OperationalError) no such column: country_identification\n",
      "[SQL: with country_sales as \n",
      "(select\n",
      "    c.country country,\n",
      "    count(distinct(c.customer_id)) total_customers,\n",
      "    round(sum(i.total)) total_sales,\n",
      "    count(i.invoice_id) as total_orders\n",
      "from customer c\n",
      "inner join invoice i on c.customer_id = i.customer_id\n",
      "group by 1),\n",
      "\n",
      "country_sales_other as\n",
      "(select\n",
      "    case\n",
      "        when total_customers = 1 then \"other\"\n",
      "        else country\n",
      "        end as country_identification,\n",
      "    total_customers,\n",
      "    total_sales,\n",
      "    total_orders\n",
      "from\n",
      "    country_sales),\n",
      "\n",
      "country_sales_agg as \n",
      "(select\n",
      "    country_identification,\n",
      "    sum(total_customers) total_customers,\n",
      "    sum(total_sales) total_sales,\n",
      "    sum(total_orders) total_orders\n",
      "from country_sales other\n",
      "group by 1),\n",
      "\n",
      "country_variables as\n",
      "(select\n",
      "    country_identification country,\n",
      "    total_customers,\n",
      "    total_sales,\n",
      "    round(cast(total_sales / total_customers as float),2) average_sales_per_customer,\n",
      "    round(cast(total_sales / total_orders as float),2) average_order_value\n",
      "from country_sales_agg)\n",
      "\n",
      "select\n",
      "    country, \n",
      "    total_customers,\n",
      "    total_sales,\n",
      "    average_sales_per_customer,\n",
      "    average_order_value\n",
      "from country_variables]\n",
      "(Background on this error at: http://sqlalche.me/e/13/e3q8)\n"
     ]
    }
   ],
   "source": [
    "%%sql\n",
    "with country_sales as \n",
    "(select\n",
    "    c.country country,\n",
    "    count(distinct(c.customer_id)) total_customers,\n",
    "    round(sum(i.total)) total_sales,\n",
    "    count(i.invoice_id) as total_orders\n",
    "from customer c\n",
    "inner join invoice i on c.customer_id = i.customer_id\n",
    "group by 1),\n",
    "\n",
    "country_sales_other as\n",
    "(select\n",
    "    case\n",
    "        when total_customers = 1 then \"other\"\n",
    "        else country\n",
    "        end as country_identification,\n",
    "    total_customers,\n",
    "    total_sales,\n",
    "    total_orders\n",
    "from\n",
    "    country_sales),\n",
    "\n",
    "country_sales_agg as \n",
    "(select\n",
    "    country_identification,\n",
    "    sum(total_customers) total_customers,\n",
    "    sum(total_sales) total_sales,\n",
    "    sum(total_orders) total_orders\n",
    "from country_sales other\n",
    "group by 1),\n",
    "\n",
    "country_variables as\n",
    "(select\n",
    "    country_identification country,\n",
    "    total_customers,\n",
    "    total_sales,\n",
    "    round(cast(total_sales / total_customers as float),2) average_sales_per_customer,\n",
    "    round(cast(total_sales / total_orders as float),2) average_order_value\n",
    "from country_sales_agg)\n",
    "\n",
    "select\n",
    "    country, \n",
    "    total_customers,\n",
    "    total_sales,\n",
    "    average_sales_per_customer,\n",
    "    average_order_value\n",
    "from country_variables\n",
    "\n",
    "\n",
    "\n",
    "     \n",
    "    "
   ]
  },
  {
   "cell_type": "markdown",
   "metadata": {
    "collapsed": true
   },
   "source": [
    "# Albums vs Individual Tracks"
   ]
  },
  {
   "cell_type": "code",
   "execution_count": 22,
   "metadata": {
    "collapsed": false
   },
   "outputs": [
    {
     "name": "stdout",
     "output_type": "stream",
     "text": [
      "(sqlite3.OperationalError) no such column: a.title\n",
      "[SQL: WITH number_of_tracks_per_invoice AS (\n",
      "  SELECT \n",
      "    il.invoice_id,\n",
      "    il.track_id,\n",
      "    COUNT(quantity) number_of_tracks\n",
      "  FROM invoice_line il\n",
      "  GROUP BY 1, 2\n",
      "),\n",
      "tracks_per_album AS (\n",
      "  SELECT\n",
      "    t.album_id,\n",
      "    t.track_id,\n",
      "    a.title\n",
      "  FROM track t\n",
      "  INNER JOIN album a ON a.album_id = t.album_id\n",
      "  GROUP BY 1, 2, 3\n",
      ")\n",
      "SELECT \n",
      "  a.title,\n",
      "  tpa.track_id,\n",
      "  ntpi.number_of_tracks\n",
      "FROM tracks_per_album tpa\n",
      "INNER JOIN number_of_tracks_per_invoice ntpi ON tpa.track_id = ntpi.track_id;]\n",
      "(Background on this error at: http://sqlalche.me/e/13/e3q8)\n"
     ]
    }
   ],
   "source": [
    "%%sql\n",
    "WITH number_of_tracks_per_invoice AS (\n",
    "  SELECT \n",
    "    il.invoice_id,\n",
    "    il.track_id,\n",
    "    COUNT(quantity) number_of_tracks\n",
    "  FROM invoice_line il\n",
    "  GROUP BY 1, 2\n",
    "),\n",
    "tracks_per_album AS (\n",
    "  SELECT\n",
    "    t.album_id,\n",
    "    t.track_id,\n",
    "    a.title\n",
    "  FROM track t\n",
    "  INNER JOIN album a ON a.album_id = t.album_id\n",
    "  GROUP BY 1, 2, 3\n",
    ")\n",
    "SELECT \n",
    "  a.title,\n",
    "  tpa.track_id,\n",
    "  ntpi.number_of_tracks\n",
    "FROM tracks_per_album tpa\n",
    "INNER JOIN number_of_tracks_per_invoice ntpi ON tpa.track_id = ntpi.track_id;\n",
    "\n",
    "\n"
   ]
  },
  {
   "cell_type": "code",
   "execution_count": null,
   "metadata": {
    "collapsed": true
   },
   "outputs": [],
   "source": []
  }
 ],
 "metadata": {
  "kernelspec": {
   "display_name": "Python 3",
   "language": "python",
   "name": "python3"
  },
  "language_info": {
   "codemirror_mode": {
    "name": "ipython",
    "version": 3
   },
   "file_extension": ".py",
   "mimetype": "text/x-python",
   "name": "python",
   "nbconvert_exporter": "python",
   "pygments_lexer": "ipython3",
   "version": "3.4.3"
  }
 },
 "nbformat": 4,
 "nbformat_minor": 2
}
